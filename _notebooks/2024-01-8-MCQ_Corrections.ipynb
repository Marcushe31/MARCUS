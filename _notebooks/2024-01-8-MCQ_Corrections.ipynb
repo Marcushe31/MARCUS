{
 "cells": [
  {
   "cell_type": "markdown",
   "metadata": {},
   "source": [
    "---\n",
    "toc: true\n",
    "comments: true\n",
    "layout: post\n",
    "title: 2020 MCQ Corrections\n",
    "courses: { compsci: {week: 18} }\n",
    "type: plans\n",
    "---"
   ]
  },
  {
   "cell_type": "markdown",
   "metadata": {},
   "source": [
    "# 2020 MCQ Review - Marcus Hernandez\n",
    "\n",
    "### SCORE: 61/67\n",
    "\n",
    "## How To Study Before Quiz:\n",
    "\n",
    "To study for the 2020 Practice MCQ, I looked over and reviewed some of the questions from the previous MCQ from last trimester.\n",
    "\n",
    "\n",
    "## Corrections:\n",
    "\n",
    "<li>Q5 Inputs to logic circuit: </li> \n",
    "Chosen answer: B, Correct Answer: C\n",
    "\n",
    "Option C results in a true output because the first gate (OR) has a true input (B=true), and the second gate (AND) with inputs C=true and D=true also produces a true output. Therefore, the overall output of the circuit is true for option C.\n",
    "\n",
    "\n",
    "<li> Q11 Color represented by binary triplet </li>\n",
    "Chosen answer: B, Correct Answer: A\n",
    "\n",
    "The binary RGB triplet (11111111, 11111111, 11110000) corresponds to the color Ivory. So, the answer is A: Ivory.\n",
    "\n",
    "\n",
    "<li> Q23 Flowchart to set available </li>\n",
    "Chosen answer: C, Correct Answer: D \n",
    "\n",
    "Line 1: available ← (weekday AND (miles < 20))\n",
    "\n",
    "This corresponds to the flowchart's logic where the condition is weekday = true and, if true, it checks miles < 20. If both conditions are true, then available is set to true. Therefore, the correct answer is D.\n",
    "\n",
    "\n",
    "<li> Q24 Count by twos 10 times </li>\n",
    "Chosen answer: A, Correct Answer: B\n",
    "\n",
    "The program displays the sum of the even integers from 2 to 20. So, the answer is B.\n",
    "\n",
    "\n",
    "<li> Q38 Benefit of IPv6 </li>\n",
    "Chosen Answer: D, Correct Answer: B\n",
    "\n",
    "\n",
    "IPv6 allows more devices to be connected to the Internet by providing a greater number of addresses than IPv4. So, the answer is B.\n",
    "\n",
    "\n",
    "<li> Q67 Error in numOccurrences procedure </li>\n",
    "Chosen Answer: C, Correct Answer: D \n",
    "\n",
    "The NumOccurrences procedure does not work correctly because it resets the count for each word in the list instead of accumulating the count for the target word. Therefore, the code segment that will not return the intended value is D."
   ]
  }
 ],
 "metadata": {
  "language_info": {
   "name": "python"
  }
 },
 "nbformat": 4,
 "nbformat_minor": 2
}

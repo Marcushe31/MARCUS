{
 "cells": [
  {
   "cell_type": "markdown",
   "metadata": {},
   "source": [
    "# Crowd Sourcing Team Teach"
   ]
  },
  {
   "cell_type": "markdown",
   "metadata": {},
   "source": [
    "## Popcorn Hack  \n",
    "How can organizations optimize crowdsoucing while minimizing the drawbacks?\n",
    "\n",
    "ANSWER: Organizations can optimize crowdsourcing while minimizing the drawbacks by having a team of fact-checkers to see if the information that is given by the public is to be accurate, and SFW for the website. They could also implement the use of AI to check the information to see if there is any foul language or off topic things. "
   ]
  },
  {
   "cell_type": "markdown",
   "metadata": {},
   "source": [
    "## Popcorn Hack  \n",
    "How do you believe participating in a citizen science project could enhance both scientific research and public engagement, and can you share any specific areas of scientific study where citizen science might make a significant impact in the future?\n",
    "\n",
    "ANSWER: participating in a citizen science projet can enhance both scientific research and public engagement because the public can come together and add to a site with useful information. This are of scientific study can make a significant impact in the future because it is written by the people, giving mostly accurate information, but more importantly it is written by someone who has experience, no matter the subject. "
   ]
  },
  {
   "cell_type": "markdown",
   "metadata": {},
   "source": [
    "# Homework Hacks\n",
    "\n",
    "## Question 1  \n",
    "Explain the concept of crowdsourcing. Provide examples of how it is commonly used in different fields.\n",
    "\n",
    "Answer: Crowd sourcing is where a group of people can contribute to a source, for the use of information and study. One example of this is with Fandom, which is a Wiki website where people come together and show information about videogames, movies, shows, and more. \n",
    "\n",
    "## Question 2  \n",
    "Discuss the benefits and challenges associated with crowdsourcing. How can organizations effectively harness the power of crowdsourcing while mitigating potential drawbacks?\n",
    "\n",
    "ANSWER: Some benefits of crowdsurfing is that its written by the people. For example with the Fandom website, people who played a videogame can go on the webiste and contribute ideas and write about strategies or information about the game. Organizatins can harness the power of crowdsourcing while mitigating potential drawbacks by implementing a fact checker team or using AI to check if the information used is true and SFW. \n",
    "\n",
    "## Question 3  \n",
    "Identify a real-world example of a successful crowdsourcing project. Explain the project, its goals, and the positive outcomes achieved through the collaboration of a large group of people.\n",
    "\n",
    "ANSWER: A real world example of a crowdsourcing project is with Wikipedia. Its goals are to provide information, and some of the positive outcomes that were achieved through wikipedia is that it provides useful (sometimes) information for all to contribute to and for all to see. \n",
    "\n",
    "## Question 4\n",
    "Create a hypothetical scenario where crowdsourcing could be applied to solve a specific problem. Describe the problem, the type of contributions you would seek from the crowd, and the potential impact of implementing the crowdsourced solution.\n",
    "\n",
    "ANSWER: A hypothetical scenario problem is that many people are playing a new videogame, but the game on a certain level is really difficult, and most people aren't able to pass it. The solution to this using crowdsourcing is that people who beat the level can go onto a crowdsourcing website about the videogame, and to write about their strategy for beating that level. Many other people will contribute to it aswell, and all of these contributions will help the people who couldn't beat the level, so that they can get a better chance of beating it. "
   ]
  }
 ],
 "metadata": {
  "language_info": {
   "name": "python"
  }
 },
 "nbformat": 4,
 "nbformat_minor": 2
}

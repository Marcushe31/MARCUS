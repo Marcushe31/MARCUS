{
 "cells": [
  {
   "cell_type": "markdown",
   "metadata": {},
   "source": [
    "# Marcus Hernandez - Computing Bias Team Teach"
   ]
  },
  {
   "cell_type": "markdown",
   "metadata": {},
   "source": [
    "##  Popcorn Hack 1: \n",
    "What is another example of a human bias being implemented into an algorithm? \n",
    "> Answer: One example of human bias being implemented into an algorithm is with facial recognition systems, where the database used to create the facial scan system lacks diversity in race, resulting that people of color would not be recognized as easily as others. \n"
   ]
  },
  {
   "cell_type": "markdown",
   "metadata": {},
   "source": [
    "## Hack 2: \n",
    "What is another way a programmer can reduce bias in their softwares?\n",
    "> Answer: Another way that a programmer can reduce bias in their software is by trying to find what types of biases they would be creating, as a result of their program. By locating what type of bias they would be creating, it would help the programmer to reduce that type of bias, or any bias as a whole. "
   ]
  },
  {
   "cell_type": "markdown",
   "metadata": {},
   "source": [
    "## Hack 3:\n",
    "What are some other examples of intentional and/or unintentional bias in innovations (games, social media, technology, etc.)?\n",
    "> Answer: Some examples of intentional/unintentional bias in innovations include a bias in social media, for example with tiktok or instagram reels. The algorithm of the innovation targets the user and their preferences, most likely based on their searches. If a user searches for a certain topic, it is likely that the algorithm will see this, and send them videos that are similar to the topic on their \"for you\" page. "
   ]
  },
  {
   "cell_type": "markdown",
   "metadata": {},
   "source": [
    "# Homework\n",
    "### Question 1: \n",
    "Define \"computer bias\" in your own words and explain how it can result from intentional or unintentional factors in software development. Give a brief example of this. Explain how programmers can actively work to reduce bias in their algorithms?\n",
    "\n",
    "> Answer: Computer bias is the presense of bias in a computer system or algorithm. These biases can rsult from intentional/unintentional means of lacking diversity in the test data, one example includes facial recognitin systems. These algorithms are given thousands of faces, and traces these faces to see the structure and recognition of the people. However in many facial recognition algorithms, the data testing lacks people of color. It was revealed in a study that people of color are less likely to be recognized by the algorithm, compared to other people. This is unintentionally due to the lack of diversity in the data. Programmers can actively work to reduce their bias in the algorithm by increasing their diversity in the date, so that the algorithm may be free from these biases. \n",
    "\n",
    "### Question 2:\n",
    "Briefly describe the two types of bias in software development and provide examples from the gaming industry and social media platforms. How might biases in software design affect user engagement and experiences?\n",
    "\n",
    "> Answer: Two examples of types of biases in software development is cultural bias and algorithm bias. Cultural bias is when a certain symbol, slogan, or saying is used in the structure of the algorithm or program, which  may be normal for the programmer, but could have a different meaning to the user or they may not agree with the idea. Another example as stated in question 1 is algorithm bias, in which an algorithm may discriminate against a certain group or minority due to its lack of diveristy in the data used to create that algorithm, or personal bias from the programmer. For example, social media platforms like tiktok or Instagram reels are depended on an algorithm that bases the \"for you page\" upon user interaction with certain topics, or by searching up something on Tiktok or Instagram Reels. If the user likes a post on instagram about fishing, their reels page or \"explore\" page will probably be filled up with fishing videos and posts, as the algorithm undestands that the user likes fishing. This algorithm is smart, as its engagement is depended on the likes of the user, meaning that the user is more likely to the return to the site/application due to its likes. "
   ]
  }
 ],
 "metadata": {
  "language_info": {
   "name": "python"
  }
 },
 "nbformat": 4,
 "nbformat_minor": 2
}

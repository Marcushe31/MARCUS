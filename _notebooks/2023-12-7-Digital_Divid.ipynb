{
 "cells": [
  {
   "cell_type": "markdown",
   "metadata": {},
   "source": [
    "# Digital Divide"
   ]
  },
  {
   "cell_type": "markdown",
   "metadata": {},
   "source": [
    "## Popcorn Hack #1 \n",
    "How does the income gap affect different marginalized communities? Provide examples.\n",
    "\n",
    "Answer: healthcare services, quality education, and digital resources"
   ]
  },
  {
   "cell_type": "markdown",
   "metadata": {},
   "source": [
    " ## Popcorn Hack #2\n",
    " \n",
    " In the context of the Digital Divide, which factor contributes to representation bias, leading to underrepresented or misrepresented perspectives in digital spaces?\n",
    "\n",
    "a) Limited Participation\n",
    "b) Trying to use the internet without a computer\n",
    "c) Unequal distribution of educational resources\n",
    "d) Lack of awareness about online information sources\n",
    "\n",
    "Answer: A, because people that don't take part will not be reprsented in the whole"
   ]
  },
  {
   "cell_type": "markdown",
   "metadata": {},
   "source": [
    "# Homework "
   ]
  },
  {
   "cell_type": "markdown",
   "metadata": {},
   "source": [
    "## Hack #1\n",
    "\n",
    "How has the digital divide been bettered/worsened by recent national or global events? How may the digital divide get worse in the future without intervention?\n",
    "\n",
    "Answer: Digital divide has been bettered by recent national events because it has alllowed more cov"
   ]
  },
  {
   "cell_type": "markdown",
   "metadata": {},
   "source": [
    "## Hack #2\n",
    "\n",
    "Give some examples of how individuals, organizations, and the government can all help lessen the digital divide.\n",
    "\n",
    "Answer: "
   ]
  }
 ],
 "metadata": {
  "language_info": {
   "name": "python"
  }
 },
 "nbformat": 4,
 "nbformat_minor": 2
}

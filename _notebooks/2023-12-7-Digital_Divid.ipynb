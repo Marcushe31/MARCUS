{
 "cells": [
  {
   "cell_type": "markdown",
   "metadata": {},
   "source": [
    "# Digital Divide"
   ]
  },
  {
   "cell_type": "markdown",
   "metadata": {},
   "source": [
    "## Popcorn Hack #1 \n",
    "How does the income gap affect different marginalized communities? Provide examples.\n",
    "\n",
    "Answer: healthcare services, quality education, and digital resources"
   ]
  },
  {
   "cell_type": "markdown",
   "metadata": {},
   "source": [
    " ## Popcorn Hack #2\n",
    " \n",
    " In the context of the Digital Divide, which factor contributes to representation bias, leading to underrepresented or misrepresented perspectives in digital spaces?\n",
    "\n",
    "a) Limited Participation\n",
    "b) Trying to use the internet without a computer\n",
    "c) Unequal distribution of educational resources\n",
    "d) Lack of awareness about online information sources\n",
    "\n",
    "Answer: A, because people that don't take part will not be reprsented in the whole"
   ]
  },
  {
   "cell_type": "markdown",
   "metadata": {},
   "source": [
    "# Digital Divide Homework - Marcus Hernandez"
   ]
  },
  {
   "cell_type": "markdown",
   "metadata": {},
   "source": [
    "## Hack #1\n",
    "\n",
    "How has the digital divide been bettered/worsened by recent national or global events? How may the digital divide get worse in the future without intervention?\n",
    "\n",
    "Answer: Digital divide has been bettered by recent national events because it has alllowed more coverage on national topics, and more information for people who are unaware of things that are happening in the world. Due to recent events like COVID-19, the war in Ukraine, and the war in the middle east, it has all increased the awareness about the digital divide in modern day, and how it affects countries who aren't able to use technology as freely as the U.S. These countries aren't able to access important information or news, which affects their lives daily. The digital divide may get worse in the future without intervention with counntries that have a low GPD economy, aswell as countries run under a tyrant or a corrupt government, which does not provide for the common folk, and will lead to worsening the digital divide today. "
   ]
  },
  {
   "cell_type": "markdown",
   "metadata": {},
   "source": [
    "## Hack #2\n",
    "\n",
    "Give some examples of how individuals, organizations, and the government can all help lessen the digital divide.\n",
    "\n",
    "Answer: Individuals, organizations, and the government can all gelp lesson the digital divide by spreading awareness, and financially supporting organizations that help to lessen the digital divide in countries that don't have as easy of an access to techonology as the United States. In terms of government, they can help to lessen the digital divide in their own countries by supplying technology to their citizens, as well as informing them about the technology and its use. "
   ]
  }
 ],
 "metadata": {
  "language_info": {
   "name": "python"
  }
 },
 "nbformat": 4,
 "nbformat_minor": 2
}

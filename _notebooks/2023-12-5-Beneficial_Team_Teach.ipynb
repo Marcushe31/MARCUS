{
 "cells": [
  {
   "cell_type": "markdown",
   "metadata": {},
   "source": [
    "# Beneficial and Harmful Effects - Team Teach - Marcus Hernandez"
   ]
  },
  {
   "cell_type": "markdown",
   "metadata": {},
   "source": [
    "## Notes - Dopamine\n",
    "\n",
    "\n",
    "Dopamine is a neurotransmitter influencing mood, pleasure, and motivation. It plays a key role in the brain's reward system and is associated with various functions, including movement and coordination. "
   ]
  },
  {
   "cell_type": "markdown",
   "metadata": {},
   "source": [
    "\n",
    "<img src=\"https://i.ibb.co/7ysbjqD/image-2.png\" alt=\"image-2\">"
   ]
  },
  {
   "cell_type": "markdown",
   "metadata": {},
   "source": [
    "## Popcorn Hack 1\n",
    "\n",
    "What is an example of a computing innovation with unintended consequences, whether positive or negative?\n",
    "\n",
    "- ANSWER:\n",
    "\n",
    "ChatGPT:\n",
    " positives = used to help learning, and can have many uses to help people with whatever they need.\n",
    "negatives = it is used negatively very often, as many people use it to cheat on tests and cheat on learning.\n"
   ]
  },
  {
   "cell_type": "markdown",
   "metadata": {},
   "source": [
    "## Popcorn Hack 2\n",
    "\n",
    "How can responsible programming help contribute to minimizing unintended harmful impacts?\n",
    "\n",
    "- ANSWER:\n",
    "\n",
    "I think that responsible programming helps contribute to minimizin gunintended harmful impacts because it means being ethical, keeping users safe, securing data, and making technology accessible to everyone. Not only that, but it involves avoiding biases, being transparent, and considering the environmental impact. When you follow these practices, programmers contribute to making technology that is fair, user-friendly, and doesn't unintentionally harm people.\n"
   ]
  },
  {
   "cell_type": "markdown",
   "metadata": {},
   "source": [
    "## Popcorn Hack 3\n",
    "Why is it important for programmers to consider the unintended consequences of their innovations? \n",
    "- ANSWER:\n",
    "\n",
    "\n",
    "I think that it's important for porgrammers to consider the unintended consequences of their innovations because it helps programmers make sure their innovations are safe, fair, and successful. Not only that, but it also avoids problems, builds trust, and makes technology better for everyone.\n"
   ]
  },
  {
   "cell_type": "markdown",
   "metadata": {},
   "source": [
    "## Bonus Hack(0.05 extra points)\n",
    "\n",
    "Self Reflect on your use of technology? Whats your daily screen time? What beneficial effects of technology do you utilize and what are some negative consequences you succcumb to?\n",
    "- ANSWER:\n",
    "\n",
    "I think my use of technology could definitely be shortened, as I am constantly on my phone all the time. My daily screen time is around 4 hours. I think the benefits effects of technology that I utilize is mainly for entertainment, some of the consequences of the phone and technology is that it releases high amounts of dopamine, so I am constantly addicted to my phone. "
   ]
  },
  {
   "cell_type": "markdown",
   "metadata": {},
   "source": [
    "## Homework\n",
    "- Choose an innovation(Social media, computers, phones, etc.) and talk about an alternative use than what its actually use for. Then, give the potential positive and negative impacts of the use you came up with\n",
    "\n",
    "I chose ChatGPT, in which there is many benefits to using ChatGPT openAI, some of which include help on homework, study, or even extracurricular things aswell as knowledge. Users can ask ChatGPT anything, and they will recieve an answer to the best of the AI's ability. Some of the negative impacts that ChatGPT has is that users can use it to cheat, or to finish homework assignments in an instant. This does not help the student in any way, as they are not actually learning the material. \n",
    "\n",
    "- How might you as a programmer implement code that helps your program have less unintented risks.\n",
    "\n",
    "A programmer may implement code that helps my program have less unintended risks if they work together to check the code, aswell as handling mistakes, checking user input, and following safety rules. In order to avoid problems, programmers cna write down how the code works, breaking it into smaller pieces. This allows the user to have a better understanding and learning of the code, to make sure that it will heave less inintended risks."
   ]
  }
 ],
 "metadata": {
  "language_info": {
   "name": "python"
  }
 },
 "nbformat": 4,
 "nbformat_minor": 2
}

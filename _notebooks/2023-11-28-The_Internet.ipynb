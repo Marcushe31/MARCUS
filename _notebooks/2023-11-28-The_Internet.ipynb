{
 "cells": [
  {
   "cell_type": "markdown",
   "metadata": {},
   "source": [
    "# The Internet Team Teach - 11/28/2023"
   ]
  },
  {
   "cell_type": "markdown",
   "metadata": {},
   "source": [
    "# Notes:\n",
    "\n",
    "<li>The Internet all began by these massive computers. They were isolated and very hard to work on. As a result, the idea of the internet came to life. It was to easily communicate between users and opened many gateways to digital communication.   "
   ]
  },
  {
   "cell_type": "markdown",
   "metadata": {},
   "source": [
    "## Popcorn Hack #1"
   ]
  },
  {
   "cell_type": "markdown",
   "metadata": {},
   "source": [
    "- What is the diagram showing?\n",
    "\n",
    "1. Bandwidth\n",
    "2. Computer Network\n",
    "3. Packet Switching\n",
    "4. Operating System\n",
    "\n",
    " 2 and 3 are correct because it shows the network between a sender and receiver, aswell as the process of sending packets to send data."
   ]
  },
  {
   "cell_type": "markdown",
   "metadata": {},
   "source": [
    "## Popcorn Hack #2"
   ]
  },
  {
   "cell_type": "markdown",
   "metadata": {},
   "source": [
    "A request from the frontend to the backend is being made and the response returns JSON. What layer(s) did the data go through?\n",
    "\n",
    "1. Application\n",
    "2. Transport\n",
    "3. Internet\n",
    "4. Network Access\n",
    "5. All layers\n",
    "\n",
    "5 is correct. The data has to travel through all layers in order to be sent by the client and received by the server."
   ]
  },
  {
   "cell_type": "markdown",
   "metadata": {},
   "source": [
    "## Popcorn Hack #3"
   ]
  },
  {
   "cell_type": "markdown",
   "metadata": {},
   "source": [
    "How does a user get the IP for a web page when they enter the url?\n",
    "\n",
    "1. It goes through layers when the request is made to the webp\n",
    "2. The DNS sends it to the user in the form of a TCP response\n",
    "3. There is no need for the user to know the ip when going to the url\n",
    "4. The user automatically knows\n",
    "\n",
    "2 is the correct answer because the DNS stores the url as a IP in a database and sends it the user when the user makes a request to the url.\n"
   ]
  },
  {
   "cell_type": "markdown",
   "metadata": {},
   "source": [
    "# Homework Hack"
   ]
  },
  {
   "cell_type": "markdown",
   "metadata": {},
   "source": [
    "\n",
    "Bandwidth:\n",
    "<li>Bandwidth is like a data pipeline. High bandwidth is a wide, fast pipe (good for gaming and streaming), while low bandwidth is like a narrow pipe that slows things down in crowded places.\n",
    "\n"
   ]
  },
  {
   "cell_type": "markdown",
   "metadata": {},
   "source": [
    "<img src=\"https://www.lifewire.com/thmb/KioNFdfvvLoDg321Nm1Is8yNyWU=/750x0/filters:no_upscale():max_bytes(150000):strip_icc():format(webp)/wow-bandwidth-test-5b733cf4c9e77c00507d5945.png\" alt=\"Bandwidth Test Image\" width=\"300\" height=\"200\">"
   ]
  },
  {
   "cell_type": "markdown",
   "metadata": {},
   "source": [
    "Computer Network:\n",
    "<li>Computer networks are like highways connecting devices. Scalability helps handle more traffic, security keeps it safe, and reliability ensures consistent performance. Local networks (LANs) are for small areas, and wide networks (WANs) connect larger places.\n",
    "\n"
   ]
  },
  {
   "cell_type": "markdown",
   "metadata": {},
   "source": [
    "<img src=\"https://encrypted-tbn0.gstatic.com/images?q=tbn:ANd9GcS06otemqPl0MHGJiPEhFie28TplElTacpGGw&usqp=CAU\" alt=\"Description of the image\" width=\"400\" height=\"300\">\n"
   ]
  },
  {
   "cell_type": "markdown",
   "metadata": {},
   "source": [
    "Packet Switching:\n",
    "<li>Packet switching sends data in small parts (packets) through the network. It's like sending pieces of a letter separately, smart because even if one part is lost, the rest can still reach the destination. Routers guide these packets for efficient and reliable delivery."
   ]
  },
  {
   "cell_type": "markdown",
   "metadata": {},
   "source": [
    "<img src=\"data:image/png;base64,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\" alt=\"Description of the image\" width=\"400\" height=\"300\">"
   ]
  }
 ],
 "metadata": {
  "language_info": {
   "name": "python"
  }
 },
 "nbformat": 4,
 "nbformat_minor": 2
}

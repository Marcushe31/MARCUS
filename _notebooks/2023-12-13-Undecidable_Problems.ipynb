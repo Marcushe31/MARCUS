{
 "cells": [
  {
   "cell_type": "markdown",
   "metadata": {},
   "source": [
    "# Undecidable Problems - Team Teach Marcus Hernandez"
   ]
  },
  {
   "cell_type": "markdown",
   "metadata": {},
   "source": [
    "### Popcorn Hack #1\n",
    "An algorithm can be used to solve an undecidable problem. **(True/False)**\n",
    "Answer: False\n",
    "### Popcorn Hack #2 \n",
    "If a programmer encounters an undecidable problem, they can just use an alogirhtm that works most of the time. **(True/False)**\n",
    "Answer: False\n",
    "### Popcorn Hack 3\n",
    "An algorithm exists that can always produce a yes/no answer for the halting problem. (True/False)\n",
    "Answer: False"
   ]
  },
  {
   "cell_type": "markdown",
   "metadata": {},
   "source": [
    "### Homework Question\n",
    "\n",
    "Research and explain how modern  systems or  browsers deal with the aspects of the halting problem when a program takes too long to load. Provide examples of mechanisms or strategies implemented in real-world scenarios to manage unresponsive programs or prolonged loading times."
   ]
  }
 ],
 "metadata": {
  "language_info": {
   "name": "python"
  }
 },
 "nbformat": 4,
 "nbformat_minor": 2
}

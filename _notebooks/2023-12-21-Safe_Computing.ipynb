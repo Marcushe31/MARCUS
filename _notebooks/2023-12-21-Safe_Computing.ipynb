{
 "cells": [
  {
   "cell_type": "markdown",
   "metadata": {},
   "source": [
    "# Safe Computing Team Teach - Marcus Hernandez"
   ]
  },
  {
   "cell_type": "markdown",
   "metadata": {},
   "source": [
    "## Popcorn Hack 1\n",
    "What is 1 benefit and harm of information collecting?\n",
    "\n",
    "Answer: It creates a more user friendly enviorment based on what the user clicks on or has searched up. One harmful way is that sites and applications can gather data about a user, and store it on a database. Example: Tiktok foryou page."
   ]
  },
  {
   "cell_type": "markdown",
   "metadata": {},
   "source": [
    "## Popcorn Hack #2\n",
    "Using the image above, decode this message: Zeofpqjxp fp qeb ybpq elifxyv\n",
    "\n",
    "ANSWER: Christmas is the best holiday"
   ]
  },
  {
   "cell_type": "markdown",
   "metadata": {},
   "source": [
    "## Popcorn Hack #3\n",
    "What are the two common approaches to encryption?'\n",
    "\n",
    "ANSWER: symmetric key encryption and asymmetric key encryption"
   ]
  },
  {
   "cell_type": "markdown",
   "metadata": {},
   "source": [
    "# Homework Hacks\n",
    "- fill out this google form and send us a screenshot of your score\n",
    "- https://docs.google.com/forms/d/e/1FAIpQLScNx2gPRfqgCE5CWKfRRPtrwhqtGTpmzcyaTzFksujLf-TvVA/viewform?usp=sf_link "
   ]
  }
 ],
 "metadata": {
  "language_info": {
   "name": "python"
  }
 },
 "nbformat": 4,
 "nbformat_minor": 2
}
